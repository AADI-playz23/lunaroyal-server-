# 🧱 LunaRoyal Minecraft Server (Paper 1.21.5 + Playit.gg)
# ✅ Google Colab Notebook

# Step 1: Install Java + tools
!apt update
!apt install openjdk-21-jdk wget screen -y

# Step 2: Make server folder
!mkdir -p minecraft && cd minecraft

# Step 3: Download latest PaperMC dev build for 1.21.5
%cd minecraft
!wget -O paper.jar https://api.papermc.io/v2/projects/paper/versions/1.21.5/builds/1/downloads/paper-1.21.5-1.jar

# Step 4: Accept EULA
!echo "eula=true" > eula.txt

# Step 5: Download Playit.gg tunnel agent
!wget https://github.com/playit-cloud/playit-agent/releases/latest/download/playit-linux -O playit
!chmod +x playit

# Step 6: Start Playit tunnel
import subprocess
playit_proc = subprocess.Popen(["./playit"])
print("🌐 Playit tunnel started. Open the link shown in the output and copy your tunnel key if needed.")

# Step 7: Start Minecraft Server
!java -Xmx1G -Xms1G -jar paper.jar nogui
