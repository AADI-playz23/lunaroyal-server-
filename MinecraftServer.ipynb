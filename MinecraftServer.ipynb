# 🧱 LunaRoyal Auto Server Setup (PaperMC 1.21.5 + Playit.gg)

# ✅ Step 1: Install Java & Playit
!apt update -y
!apt install -y openjdk-21-jre-headless unzip wget curl gnupg
!curl -SsL https://playit-cloud.github.io/ppa/key.gpg | gpg --dearmor | tee /etc/apt/trusted.gpg.d/playit.gpg >/dev/null
!echo "deb [signed-by=/etc/apt/trusted.gpg.d/playit.gpg] https://playit-cloud.github.io/ppa/data ./" | tee /etc/apt/sources.list.d/playit-cloud.list
!apt update -y
!apt install -y playit

# ✅ Step 2: Setup server files
!mkdir -p /content/paper21
%cd /content/paper21
!wget https://api.papermc.io/v2/projects/paper/versions/1.21.5/builds/22/downloads/paper-1.21.5-22.jar -O paper.jar
!echo "eula=true" > eula.txt

# ✅ Step 3: Start Playit.gg and get IP
import subprocess, threading, re

def run_playit():
    global server_ip
    server_ip = None
    proc = subprocess.Popen(["playit"], stdout=subprocess.PIPE, stderr=subprocess.STDOUT)
    for line in iter(proc.stdout.readline, b''):
        decoded = line.decode()
        print(decoded, end='')
        match = re.search(r'(\S+\.playit\.gg:\d+)', decoded)
        if match:
            server_ip = match.group(1)
            print(f"\n🌐 Your public server IP: {server_ip}\n")
            break

threading.Thread(target=run_playit).start()

# ✅ Step 4: Wait 10s for tunnel setup
import time
print("⏳ Waiting 10 seconds for Playit tunnel...")
time.sleep(10)

# ✅ Step 5: Start Minecraft server
print("🚀 Starting PaperMC 1.21.5 server...")
!java -Xms1G -Xmx2G -jar paper.jar nogui
