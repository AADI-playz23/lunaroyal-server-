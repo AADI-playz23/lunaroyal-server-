{
 "cells": [
  {
   "cell_type": "markdown",
   "id": "a9966a10",
   "metadata": {},
   "source": [
    "# ✅ Google Colab Minecraft Server (PaperMC 1.21.4) + Playit.gg Tunnel"
   ]
  },
  {
   "cell_type": "code",
   "execution_count": null,
   "id": "a72b24ff",
   "metadata": {},
   "outputs": [],
   "source": [
    "# Install required tools (Java, unzip, curl, wget)\n",
    "!apt update -y\n",
    "!apt install openjdk-17-jre-headless unzip wget curl -y\n",
    "\n",
    "# Set JAVA_HOME environment variable\n",
    "import os\n",
    "os.environ[\"JAVA_HOME\"] = \"/usr/lib/jvm/java-17-openjdk-amd64\"\n"
   ]
  },
  {
   "cell_type": "code",
   "execution_count": null,
   "id": "cd1096d3",
   "metadata": {},
   "outputs": [],
   "source": [
    "# Clone your Minecraft server repo (replace with your GitHub repo if needed)\n",
    "!git clone https://github.com/AADI-playz23/lunaroyal-server lunaroyal-server\n",
    "%cd lunaroyal-server\n"
   ]
  },
  {
   "cell_type": "code",
   "execution_count": null,
   "id": "ddcece51",
   "metadata": {},
   "outputs": [],
   "source": [
    "# Download latest PaperMC 1.21.4 jar\n",
    "!wget -O paper.jar https://api.papermc.io/v2/projects/paper/versions/1.21.4/builds/1/downloads/paper-1.21.4-1.jar\n"
   ]
  },
  {
   "cell_type": "code",
   "execution_count": null,
   "id": "46c25da9",
   "metadata": {},
   "outputs": [],
   "source": [
    "# Accept EULA\n",
    "with open(\"eula.txt\", \"w\") as f:\n",
    "    f.write(\"eula=true\")\n"
   ]
  },
  {
   "cell_type": "code",
   "execution_count": null,
   "id": "d3fe7e44",
   "metadata": {},
   "outputs": [],
   "source": [
    "# Download and start Playit.gg tunnel\n",
    "!wget -O playit https://playit-cloud.github.io/clients/playit-linux-amd64\n",
    "!chmod +x playit\n",
    "!./playit &\n"
   ]
  },
  {
   "cell_type": "code",
   "execution_count": null,
   "id": "fe52881d",
   "metadata": {},
   "outputs": [],
   "source": [
    "# Start the PaperMC server\n",
    "!java -Xmx2G -jar paper.jar nogui\n"
   ]
  }
 ],
 "metadata": {},
 "nbformat": 4,
 "nbformat_minor": 5
}
