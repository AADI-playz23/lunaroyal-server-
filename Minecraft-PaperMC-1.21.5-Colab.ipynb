{
 "cells": [
  {
   "cell_type": "code",
   "source": [
    "# ✅ Minecraft PaperMC 1.21.5 + Playit Tunnel in Colab\n",
    "!apt update -y\n",
    "!apt install -y openjdk-21-jre-headless unzip wget curl gnupg\n",
    "!curl -SsL https://playit-cloud.github.io/ppa/key.gpg | gpg --dearmor | tee /etc/apt/trusted.gpg.d/playit.gpg >/dev/null\n",
    "!echo \"deb [signed-by=/etc/apt/trusted.gpg.d/playit.gpg] https://playit-cloud.github.io/ppa/data ./\" | tee /etc/apt/sources.list.d/playit-cloud.list\n",
    "!apt update -y\n",
    "!apt install -y playit\n",
    "!mkdir -p /content/paper21\n",
    "%cd /content/paper21\n",
    "!wget https://api.papermc.io/v2/projects/paper/versions/1.21.5/builds/22/downloads/paper-1.21.5-22.jar -O paper.jar\n",
    "!echo \"eula=true\" > eula.txt"
   ],
   "metadata": {},
   "execution_count": null,
   "outputs": []
  },
  {
   "cell_type": "code",
   "source": [
    "# ✅ Start Playit tunnel and extract IP\n",
    "import subprocess, threading, re, time\n",
    "\n",
    "def run_playit():\n",
    "    global server_ip\n",
    "    server_ip = None\n",
    "    proc = subprocess.Popen([\"playit\"], stdout=subprocess.PIPE, stderr=subprocess.STDOUT)\n",
    "    for line in iter(proc.stdout.readline, b''):\n",
    "        decoded = line.decode()\n",
    "        print(decoded, end='')\n",
    "        match = re.search(r'(\\S+\\.playit\\.gg:\\d+)', decoded)\n",
    "        if match:\n",
    "            server_ip = match.group(1)\n",
    "            print(f\"\\n🌐 Your public server IP: {server_ip}\\n\")\n",
    "            break\n",
    "\n",
    "threading.Thread(target=run_playit).start()\n",
    "print(\"⏳ Waiting 10 seconds for Playit tunnel...\")\n",
    "time.sleep(10)"
   ],
   "metadata": {},
   "execution_count": null,
   "outputs": []
  },
  {
   "cell_type": "code",
   "source": [
    "# ✅ Start the Minecraft server\n",
    "print(\"🚀 Starting PaperMC 1.21.5 server...\")\n",
    "!java -Xms1G -Xmx2G -jar paper.jar nogui"
   ],
   "metadata": {},
   "execution_count": null,
   "outputs": []
  }
 ],
 "metadata": {
  "kernelspec": {
   "name": "python3",
   "display_name": "Python 3"
  },
  "language_info": {
   "name": "python",
   "version": ""
  }
 },
 "nbformat": 4,
 "nbformat_minor": 0
}
