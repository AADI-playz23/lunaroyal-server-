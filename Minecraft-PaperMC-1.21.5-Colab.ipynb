{
 "cells": [
  {
   "cell_type": "code",
   "metadata": {},
   "source": [
    "# ✅ Setup Environment\n",
    "!apt-get update -y\n",
    "!apt-get install -y openjdk-17-jre wget unzip\n",
    "!mkdir -p /root/server\n",
    "%cd /root/server"
   ]
  },
  {
   "cell_type": "code",
   "metadata": {},
   "source": [
    "# 📥 Download PaperMC Server\n",
    "!wget -O paper.jar https://api.papermc.io/v2/projects/paper/versions/1.21.1/builds/69/downloads/paper-1.21.1-69.jar"
   ]
  },
  {
   "cell_type": "code",
   "metadata": {},
   "source": [
    "# 📜 Accept EULA\n",
    "with open(\"eula.txt\", \"w\") as f:\n",
    "    f.write(\"eula=true\\n\")"
   ]
  },
  {
   "cell_type": "code",
   "metadata": {},
   "source": [
    "# 🚀 Start Server with Fast Logs\n",
    "!java -Xmx2G -jar paper.jar nogui | tee server.log | tail -f server.log"
   ]
  },
  {
   "cell_type": "code",
   "metadata": {},
   "source": [
    "# 🌍 Setup Playit.gg Tunnel\n",
    "!wget https://playit-cloud.github.io/ppa/data/playit-linux.zip\n",
    "!unzip -o playit-linux.zip\n",
    "!chmod +x playit\n",
    "!./playit"
   ]
  },
  {
   "cell_type": "code",
   "metadata": {},
   "source": [
    "# 📖 View Server Logs (optional)\n",
    "!tail -f server.log"
   ]
  }
 ],
 "metadata": {
  "colab": {
   "name": "MinecraftServer.ipynb",
   "provenance": []
  },
  "kernelspec": {
   "display_name": "Python 3",
   "language": "python",
   "name":
