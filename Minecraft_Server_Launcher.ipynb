# ✅ Google Colab Notebook to Run Minecraft Server 1.21.4 with Playit.gg (not included in repo)

# Step 1: Install dependencies
!apt update -y && apt install -y openjdk-17-jre-headless screen curl wget unzip

# Step 2: Clone your GitHub repo
!git clone https://github.com/AADI-playz23/lunaroyal-server.git
%cd lunaroyal-server

# Step 3: Download Playit.gg agent
!wget https://playit-cloud.github.io/host/playit-linux.zip -O playit.zip
!unzip playit.zip -d playit
!chmod +x playit/playit

# Step 4: Accept EULA for Minecraft
!echo "eula=true" > eula.txt

# Step 5: Start Minecraft server in background
!screen -dmS minecraft java -Xmx2G -Xms2G -jar paper.jar nogui

# Step 6: Start Playit.gg tunnel
!playit/playit
